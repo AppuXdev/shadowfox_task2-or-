{
 "cells": [
  {
   "cell_type": "code",
   "execution_count": 2,
   "id": "0c653640",
   "metadata": {},
   "outputs": [
    {
     "name": "stdout",
     "output_type": "stream",
     "text": [
      "Accuracy: 0.7539806718821905\n",
      "\n",
      "Confusion Matrix:\n",
      " [[ 3944  1989  1297]\n",
      " [  127 10255   579]\n",
      " [  806  3221 10377]]\n",
      "\n",
      "Classification Report:\n",
      "               precision    recall  f1-score   support\n",
      "\n",
      "          -1       0.81      0.55      0.65      7230\n",
      "           0       0.66      0.94      0.78     10961\n",
      "           1       0.85      0.72      0.78     14404\n",
      "\n",
      "    accuracy                           0.75     32595\n",
      "   macro avg       0.77      0.73      0.74     32595\n",
      "weighted avg       0.78      0.75      0.75     32595\n",
      "\n"
     ]
    }
   ],
   "source": [
    "# Step 1: Import libraries\n",
    "import pandas as pd\n",
    "from sklearn.model_selection import train_test_split\n",
    "from sklearn.feature_extraction.text import TfidfVectorizer\n",
    "from sklearn.linear_model import LogisticRegression\n",
    "from sklearn.metrics import classification_report, confusion_matrix, accuracy_score\n",
    "\n",
    "# Step 2: Load and clean data\n",
    "df = pd.read_csv(r\"C:\\Users\\Apurva HG\\anaconda3\\share\\jupyter\\lab\\X data.csv\")  # Replace with your actual filename\n",
    "df = df.dropna(subset=['category']).reset_index(drop=True)\n",
    "df['clean_text'] = df['clean_text'].astype(str).str.lower()\n",
    "df['category'] = df['category'].astype(int)\n",
    "\n",
    "# Step 3: Feature extraction\n",
    "X = df['clean_text']\n",
    "y = df['category']\n",
    "vectorizer = TfidfVectorizer(stop_words='english', max_features=1000)\n",
    "X_vectorized = vectorizer.fit_transform(X)\n",
    "\n",
    "# Step 4: Train-test split\n",
    "X_train, X_test, y_train, y_test = train_test_split(X_vectorized, y, test_size=0.2, random_state=42)\n",
    "\n",
    "# Step 5: Train model with higher iteration limit\n",
    "model = LogisticRegression(max_iter=300)\n",
    "model.fit(X_train, y_train)\n",
    "\n",
    "# Step 6: Predictions and evaluation\n",
    "y_pred = model.predict(X_test)\n",
    "print(\"Accuracy:\", accuracy_score(y_test, y_pred))\n",
    "print(\"\\nConfusion Matrix:\\n\", confusion_matrix(y_test, y_pred))\n",
    "print(\"\\nClassification Report:\\n\", classification_report(y_test, y_pred))"
   ]
  },
  {
   "cell_type": "code",
   "execution_count": null,
   "id": "d715ea1c",
   "metadata": {},
   "outputs": [],
   "source": []
  }
 ],
 "metadata": {
  "kernelspec": {
   "display_name": "Python 3 (ipykernel)",
   "language": "python",
   "name": "python3"
  },
  "language_info": {
   "codemirror_mode": {
    "name": "ipython",
    "version": 3
   },
   "file_extension": ".py",
   "mimetype": "text/x-python",
   "name": "python",
   "nbconvert_exporter": "python",
   "pygments_lexer": "ipython3",
   "version": "3.11.5"
  }
 },
 "nbformat": 4,
 "nbformat_minor": 5
}
